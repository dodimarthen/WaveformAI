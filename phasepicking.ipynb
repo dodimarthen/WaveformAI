{
 "cells": [
  {
   "cell_type": "code",
   "execution_count": 3,
   "metadata": {},
   "outputs": [
    {
     "data": {
      "text/plain": [
       "3 Trace(s) in Stream:\n",
       "IA.ACBM..HNE | 2023-12-13T23:34:42.000000Z - 2023-12-13T23:39:42.000000Z | 100.0 Hz, 30001 samples\n",
       "IA.ACBM..HNN | 2023-12-13T23:34:42.000000Z - 2023-12-13T23:39:42.000000Z | 100.0 Hz, 30001 samples\n",
       "IA.ACBM..HNZ | 2023-12-13T23:34:42.000000Z - 2023-12-13T23:39:42.000000Z | 100.0 Hz, 30001 samples"
      ]
     },
     "execution_count": 3,
     "metadata": {},
     "output_type": "execute_result"
    }
   ],
   "source": [
    "import obspy\n",
    "from obspy import read\n",
    "st = read(\"acbm.mseed\")\n",
    "st"
   ]
  },
  {
   "cell_type": "code",
   "execution_count": null,
   "metadata": {},
   "outputs": [],
   "source": []
  }
 ],
 "metadata": {
  "kernelspec": {
   "display_name": "Python 3",
   "language": "python",
   "name": "python3"
  },
  "language_info": {
   "codemirror_mode": {
    "name": "ipython",
    "version": 3
   },
   "file_extension": ".py",
   "mimetype": "text/x-python",
   "name": "python",
   "nbconvert_exporter": "python",
   "pygments_lexer": "ipython3",
   "version": "3.12.2"
  }
 },
 "nbformat": 4,
 "nbformat_minor": 2
}
